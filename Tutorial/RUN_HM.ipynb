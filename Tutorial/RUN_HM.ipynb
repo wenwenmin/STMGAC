{
 "cells": [
  {
   "cell_type": "code",
   "execution_count": 1,
   "id": "initial_id",
   "metadata": {
    "collapsed": true,
    "ExecuteTime": {
     "end_time": "2024-08-07T08:01:56.408209800Z",
     "start_time": "2024-08-07T08:01:54.572229500Z"
    }
   },
   "outputs": [],
   "source": [
    "import warnings\n",
    "warnings.filterwarnings(\"ignore\")\n",
    "import torch\n",
    "\n",
    "import pandas as pd\n",
    "import numpy as np\n",
    "import scanpy as sc\n",
    "import os\n",
    "import yaml\n",
    "from pathlib import Path\n",
    "\n",
    "\n",
    "os.environ[\"CUDA_VISIBLE_DEVICES\"] = \"0\"\n",
    "os.environ['R_HOME'] = 'D:/software/R/R-4.3.2'\n",
    "os.environ['R_USER'] = 'D:/software/anaconda/anaconda3/envs/pt20cu118/Lib/site-packages/rpy2'\n",
    "from sklearn.metrics import adjusted_rand_score as ari_score\n",
    "from sklearn.cluster import KMeans\n",
    "from sklearn.decomposition import PCA\n",
    "\n",
    "def mclust_R(adata, num_cluster, modelNames='EEE', used_obsm='imputation', key_added_pred='impute_mclust',\n",
    "             random_seed=666):\n",
    "    \"\"\"\\\n",
    "    Clustering using the mclust algorithm.\n",
    "    The parameters are the same as those in the R package mclust.\n",
    "    \"\"\"\n",
    "\n",
    "    np.random.seed(random_seed)\n",
    "    import rpy2.robjects as robjects\n",
    "    robjects.r.library(\"mclust\")\n",
    "\n",
    "    import rpy2.robjects.numpy2ri\n",
    "    rpy2.robjects.numpy2ri.activate()\n",
    "    r_random_seed = robjects.r['set.seed']\n",
    "    r_random_seed(random_seed)\n",
    "    rmclust = robjects.r['Mclust']\n",
    "\n",
    "    res = rmclust(adata.obsm[used_obsm], num_cluster, modelNames)\n",
    "    mclust_res = np.array(res[-2])\n",
    "\n",
    "    adata.obs[key_added_pred] = mclust_res\n",
    "    adata.obs[key_added_pred] = adata.obs[key_added_pred].astype('int')\n",
    "    adata.obs[key_added_pred] = adata.obs[key_added_pred].astype('category')\n",
    "    return adata\n"
   ]
  },
  {
   "cell_type": "code",
   "execution_count": 2,
   "outputs": [],
   "source": [
    "import STMGAC"
   ],
   "metadata": {
    "collapsed": false,
    "ExecuteTime": {
     "end_time": "2024-08-07T08:01:59.959742600Z",
     "start_time": "2024-08-07T08:01:56.408209800Z"
    }
   },
   "id": "6301cb91a04e91cb"
  },
  {
   "cell_type": "code",
   "execution_count": 3,
   "outputs": [],
   "source": [
    "proj_name = 'HM'\n",
    "num_clusters = 4"
   ],
   "metadata": {
    "collapsed": false,
    "ExecuteTime": {
     "end_time": "2024-08-07T08:01:59.964351100Z",
     "start_time": "2024-08-07T08:01:59.959742600Z"
    }
   },
   "id": "f6df21874880cf8e"
  },
  {
   "cell_type": "code",
   "execution_count": 4,
   "outputs": [],
   "source": [
    "with open('../Config/HM.yaml', 'r', encoding='utf-8') as f:\n",
    "    config = yaml.load(f.read(), Loader=yaml.FullLoader)"
   ],
   "metadata": {
    "collapsed": false,
    "ExecuteTime": {
     "end_time": "2024-08-07T08:01:59.972690900Z",
     "start_time": "2024-08-07T08:01:59.962289900Z"
    }
   },
   "id": "245a68affda1d47b"
  },
  {
   "cell_type": "code",
   "execution_count": 5,
   "outputs": [],
   "source": [
    "adata = sc.read('D:/project/datasets/Melanoma/reading_h5/Melanoma_filtered_feature_bc_matrix.h5')\n",
    "adata.var_names_make_unique()\n",
    "truth_path = 'D:/project/datasets/Melanoma/manual_annotations.csv'\n",
    "Ann_df = pd.read_csv(truth_path, index_col=0)\n",
    "Ann_df.columns = ['Ground Truth']\n",
    "adata.obs['layer_guess'] = Ann_df.loc[adata.obs_names, 'Ground Truth']\n",
    "\n",
    "graph_dict = STMGAC.graph_construction(adata, config['data']['k_cutoff'])\n",
    "\n",
    "adata.layers['count'] = adata.X\n",
    "sc.pp.filter_genes(adata, min_cells=50)\n",
    "sc.pp.filter_genes(adata, min_counts=10)\n",
    "sc.pp.normalize_total(adata, target_sum=1e6)\n",
    "sc.pp.highly_variable_genes(adata, flavor=\"seurat_v3\", layer='count',\n",
    "                            n_top_genes=config['data']['top_genes'])\n",
    "adata = adata[:, adata.var['highly_variable'] == True]\n",
    "sc.pp.scale(adata)\n",
    "\n",
    "adata_X = PCA(n_components=200, random_state=42).fit_transform(adata.X)\n",
    "adata.obsm['X_pca'] = adata_X"
   ],
   "metadata": {
    "collapsed": false,
    "ExecuteTime": {
     "end_time": "2024-08-07T08:02:00.294574300Z",
     "start_time": "2024-08-07T08:01:59.973192700Z"
    }
   },
   "id": "a4c9332f5d64f8a6"
  },
  {
   "cell_type": "code",
   "execution_count": 6,
   "outputs": [],
   "source": [
    "device = 'cuda:0' if torch.cuda.is_available() else 'cpu'\n",
    "net = STMGAC.Mgac(adata, graph_dict=graph_dict, num_clusters=num_clusters, device=device, config=config)"
   ],
   "metadata": {
    "collapsed": false,
    "ExecuteTime": {
     "end_time": "2024-08-07T08:02:00.298764100Z",
     "start_time": "2024-08-07T08:02:00.295786800Z"
    }
   },
   "id": "f2f562a5d6cbb113"
  },
  {
   "cell_type": "code",
   "execution_count": 7,
   "outputs": [
    {
     "name": "stderr",
     "output_type": "stream",
     "text": [
      "Epoch 499 total loss=0.823 recon loss=1.011 mean loss=1.129 tri loss=0.394: 100%|██████████| 500/500 [00:13<00:00, 36.57it/s]\n"
     ]
    }
   ],
   "source": [
    "net.trian()"
   ],
   "metadata": {
    "collapsed": false,
    "ExecuteTime": {
     "end_time": "2024-08-07T08:02:15.027221100Z",
     "start_time": "2024-08-07T08:02:00.298764100Z"
    }
   },
   "id": "ea3e2f24612502da"
  },
  {
   "cell_type": "code",
   "execution_count": 8,
   "outputs": [],
   "source": [
    "enc_rep, recon = net.process()\n",
    "enc_rep = enc_rep.data.cpu().numpy()\n",
    "recon = recon.data.cpu().numpy()\n",
    "adata.obsm['latent'] = enc_rep\n",
    "adata.obsm['recon'] = recon"
   ],
   "metadata": {
    "collapsed": false,
    "ExecuteTime": {
     "end_time": "2024-08-07T08:02:15.036923100Z",
     "start_time": "2024-08-07T08:02:15.023965200Z"
    }
   },
   "id": "523f2926da3961d4"
  },
  {
   "cell_type": "code",
   "execution_count": 9,
   "outputs": [
    {
     "name": "stderr",
     "output_type": "stream",
     "text": [
      "R[write to console]:                    __           __ \n",
      "   ____ ___  _____/ /_  _______/ /_\n",
      "  / __ `__ \\/ ___/ / / / / ___/ __/\n",
      " / / / / / / /__/ / /_/ (__  ) /_  \n",
      "/_/ /_/ /_/\\___/_/\\__,_/____/\\__/   version 6.0.1\n",
      "Type 'citation(\"mclust\")' for citing this R package in publications.\n",
      "\n"
     ]
    },
    {
     "name": "stdout",
     "output_type": "stream",
     "text": [
      "fitting ...\n",
      "  |======================================================================| 100%\n"
     ]
    }
   ],
   "source": [
    "adata = mclust_R(adata, num_cluster=num_clusters, used_obsm='latent', key_added_pred='mclust')\n",
    "sub_adata = adata[~pd.isnull(adata.obs['layer_guess'])]\n",
    "ARI = ari_score(sub_adata.obs['layer_guess'], sub_adata.obs['mclust'])"
   ],
   "metadata": {
    "collapsed": false,
    "ExecuteTime": {
     "end_time": "2024-08-07T08:02:15.301826500Z",
     "start_time": "2024-08-07T08:02:15.036923100Z"
    }
   },
   "id": "9096b456a5907f42"
  },
  {
   "cell_type": "code",
   "execution_count": 10,
   "outputs": [],
   "source": [
    "colors = {\n",
    "    3: '#FEB915',\n",
    "    1: '#59BE86',\n",
    "    2: '#C798EE',\n",
    "    4: '#F56867',\n",
    "    -2147483647: '#7495D3'\n",
    "}"
   ],
   "metadata": {
    "collapsed": false,
    "ExecuteTime": {
     "end_time": "2024-08-07T08:02:15.301826500Z",
     "start_time": "2024-08-07T08:02:15.299687200Z"
    }
   },
   "id": "bbe30b6c36387758"
  },
  {
   "cell_type": "code",
   "execution_count": 11,
   "outputs": [
    {
     "data": {
      "text/plain": "[<Axes: title={'center': 'STMGAC'}, xlabel='spatial1', ylabel='spatial2'>]"
     },
     "execution_count": 11,
     "metadata": {},
     "output_type": "execute_result"
    },
    {
     "data": {
      "text/plain": "<Figure size 640x480 with 1 Axes>",
      "image/png": "[encoded data removed]"
     },
     "metadata": {},
     "output_type": "display_data"
    }
   ],
   "source": [
    "sc.pl.spatial(adata, color=['mclust'], title=f'STMGAC',show=False, spot_size=1, img_key=None, save=False, palette=colors)"
   ],
   "metadata": {
    "collapsed": false,
    "ExecuteTime": {
     "end_time": "2024-08-07T08:02:15.416662800Z",
     "start_time": "2024-08-07T08:02:15.301826500Z"
    }
   },
   "id": "61e3e06b4e106fa0"
  }
 ],
 "metadata": {
  "kernelspec": {
   "name": "alignment3d",
   "language": "python",
   "display_name": "Alignment3D"
  },
  "language_info": {
   "codemirror_mode": {
    "name": "ipython",
    "version": 2
   },
   "file_extension": ".py",
   "mimetype": "text/x-python",
   "name": "python",
   "nbconvert_exporter": "python",
   "pygments_lexer": "ipython2",
   "version": "2.7.6"
  }
 },
 "nbformat": 4,
 "nbformat_minor": 5
}
